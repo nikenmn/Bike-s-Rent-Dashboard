{
  "cells": [
    {
      "cell_type": "markdown",
      "metadata": {
        "id": "H9wADwK78DCz"
      },
      "source": [
        "# Proyek Analisis Data: [Bike Sharing]\n",
        "- **Nama:** Niken Maharani Permata\n",
        "- **Email:** nikenmaharani24@gmail.com\n",
        "- **ID Dicoding:** Niken Maharani Permata"
      ]
    },
    {
      "cell_type": "markdown",
      "metadata": {
        "id": "eE0raob58DC0"
      },
      "source": [
        "## Menentukan Pertanyaan Bisnis"
      ]
    },
    {
      "cell_type": "markdown",
      "metadata": {
        "id": "GmQeQ5YF8DC0"
      },
      "source": [
        "- Apakah musim tertentu mempengaruhi jumlah penyewaan sepeda?\n",
        "- Apakah terdapat korelasi antara suhu, tingkat kelembapan, dan kecepatan angin mempengaruhi penyewaan sepeda?\n",
        "- Apa saja hari yang mencatat penyewaan sepeda terbanyak?"
      ]
    },
    {
      "cell_type": "markdown",
      "metadata": {
        "id": "H-z4QGlO8DC1"
      },
      "source": [
        "## Import Semua Packages/Library yang Digunakan"
      ]
    },
    {
      "cell_type": "code",
      "execution_count": 3,
      "metadata": {
        "id": "FVYwaObI8DC1",
        "outputId": "0443bb76-5cae-444c-9204-0ceddbe6f9b5",
        "colab": {
          "base_uri": "https://localhost:8080/"
        }
      },
      "outputs": [
        {
          "output_type": "stream",
          "name": "stdout",
          "text": [
            "Collecting streamlit\n",
            "  Downloading streamlit-1.31.1-py2.py3-none-any.whl (8.4 MB)\n",
            "\u001b[2K     \u001b[90m━━━━━━━━━━━━━━━━━━━━━━━━━━━━━━━━━━━━━━━━\u001b[0m \u001b[32m8.4/8.4 MB\u001b[0m \u001b[31m23.1 MB/s\u001b[0m eta \u001b[36m0:00:00\u001b[0m\n",
            "\u001b[?25hRequirement already satisfied: altair<6,>=4.0 in /usr/local/lib/python3.10/dist-packages (from streamlit) (4.2.2)\n",
            "Requirement already satisfied: blinker<2,>=1.0.0 in /usr/lib/python3/dist-packages (from streamlit) (1.4)\n",
            "Requirement already satisfied: cachetools<6,>=4.0 in /usr/local/lib/python3.10/dist-packages (from streamlit) (5.3.3)\n",
            "Requirement already satisfied: click<9,>=7.0 in /usr/local/lib/python3.10/dist-packages (from streamlit) (8.1.7)\n",
            "Requirement already satisfied: importlib-metadata<8,>=1.4 in /usr/local/lib/python3.10/dist-packages (from streamlit) (7.0.1)\n",
            "Requirement already satisfied: numpy<2,>=1.19.3 in /usr/local/lib/python3.10/dist-packages (from streamlit) (1.25.2)\n",
            "Requirement already satisfied: packaging<24,>=16.8 in /usr/local/lib/python3.10/dist-packages (from streamlit) (23.2)\n",
            "Requirement already satisfied: pandas<3,>=1.3.0 in /usr/local/lib/python3.10/dist-packages (from streamlit) (1.5.3)\n",
            "Requirement already satisfied: pillow<11,>=7.1.0 in /usr/local/lib/python3.10/dist-packages (from streamlit) (9.4.0)\n",
            "Requirement already satisfied: protobuf<5,>=3.20 in /usr/local/lib/python3.10/dist-packages (from streamlit) (3.20.3)\n",
            "Requirement already satisfied: pyarrow>=7.0 in /usr/local/lib/python3.10/dist-packages (from streamlit) (14.0.2)\n",
            "Requirement already satisfied: python-dateutil<3,>=2.7.3 in /usr/local/lib/python3.10/dist-packages (from streamlit) (2.8.2)\n",
            "Requirement already satisfied: requests<3,>=2.27 in /usr/local/lib/python3.10/dist-packages (from streamlit) (2.31.0)\n",
            "Requirement already satisfied: rich<14,>=10.14.0 in /usr/local/lib/python3.10/dist-packages (from streamlit) (13.7.0)\n",
            "Requirement already satisfied: tenacity<9,>=8.1.0 in /usr/local/lib/python3.10/dist-packages (from streamlit) (8.2.3)\n",
            "Requirement already satisfied: toml<2,>=0.10.1 in /usr/local/lib/python3.10/dist-packages (from streamlit) (0.10.2)\n",
            "Requirement already satisfied: typing-extensions<5,>=4.3.0 in /usr/local/lib/python3.10/dist-packages (from streamlit) (4.10.0)\n",
            "Requirement already satisfied: tzlocal<6,>=1.1 in /usr/local/lib/python3.10/dist-packages (from streamlit) (5.2)\n",
            "Collecting validators<1,>=0.2 (from streamlit)\n",
            "  Downloading validators-0.22.0-py3-none-any.whl (26 kB)\n",
            "Collecting gitpython!=3.1.19,<4,>=3.0.7 (from streamlit)\n",
            "  Downloading GitPython-3.1.42-py3-none-any.whl (195 kB)\n",
            "\u001b[2K     \u001b[90m━━━━━━━━━━━━━━━━━━━━━━━━━━━━━━━━━━━━━━━━\u001b[0m \u001b[32m195.4/195.4 kB\u001b[0m \u001b[31m19.1 MB/s\u001b[0m eta \u001b[36m0:00:00\u001b[0m\n",
            "\u001b[?25hCollecting pydeck<1,>=0.8.0b4 (from streamlit)\n",
            "  Downloading pydeck-0.8.1b0-py2.py3-none-any.whl (4.8 MB)\n",
            "\u001b[2K     \u001b[90m━━━━━━━━━━━━━━━━━━━━━━━━━━━━━━━━━━━━━━━━\u001b[0m \u001b[32m4.8/4.8 MB\u001b[0m \u001b[31m58.2 MB/s\u001b[0m eta \u001b[36m0:00:00\u001b[0m\n",
            "\u001b[?25hRequirement already satisfied: tornado<7,>=6.0.3 in /usr/local/lib/python3.10/dist-packages (from streamlit) (6.3.2)\n",
            "Collecting watchdog>=2.1.5 (from streamlit)\n",
            "  Downloading watchdog-4.0.0-py3-none-manylinux2014_x86_64.whl (82 kB)\n",
            "\u001b[2K     \u001b[90m━━━━━━━━━━━━━━━━━━━━━━━━━━━━━━━━━━━━━━━━\u001b[0m \u001b[32m83.0/83.0 kB\u001b[0m \u001b[31m8.8 MB/s\u001b[0m eta \u001b[36m0:00:00\u001b[0m\n",
            "\u001b[?25hRequirement already satisfied: entrypoints in /usr/local/lib/python3.10/dist-packages (from altair<6,>=4.0->streamlit) (0.4)\n",
            "Requirement already satisfied: jinja2 in /usr/local/lib/python3.10/dist-packages (from altair<6,>=4.0->streamlit) (3.1.3)\n",
            "Requirement already satisfied: jsonschema>=3.0 in /usr/local/lib/python3.10/dist-packages (from altair<6,>=4.0->streamlit) (4.19.2)\n",
            "Requirement already satisfied: toolz in /usr/local/lib/python3.10/dist-packages (from altair<6,>=4.0->streamlit) (0.12.1)\n",
            "Collecting gitdb<5,>=4.0.1 (from gitpython!=3.1.19,<4,>=3.0.7->streamlit)\n",
            "  Downloading gitdb-4.0.11-py3-none-any.whl (62 kB)\n",
            "\u001b[2K     \u001b[90m━━━━━━━━━━━━━━━━━━━━━━━━━━━━━━━━━━━━━━━━\u001b[0m \u001b[32m62.7/62.7 kB\u001b[0m \u001b[31m5.8 MB/s\u001b[0m eta \u001b[36m0:00:00\u001b[0m\n",
            "\u001b[?25hRequirement already satisfied: zipp>=0.5 in /usr/local/lib/python3.10/dist-packages (from importlib-metadata<8,>=1.4->streamlit) (3.17.0)\n",
            "Requirement already satisfied: pytz>=2020.1 in /usr/local/lib/python3.10/dist-packages (from pandas<3,>=1.3.0->streamlit) (2023.4)\n",
            "Requirement already satisfied: six>=1.5 in /usr/local/lib/python3.10/dist-packages (from python-dateutil<3,>=2.7.3->streamlit) (1.16.0)\n",
            "Requirement already satisfied: charset-normalizer<4,>=2 in /usr/local/lib/python3.10/dist-packages (from requests<3,>=2.27->streamlit) (3.3.2)\n",
            "Requirement already satisfied: idna<4,>=2.5 in /usr/local/lib/python3.10/dist-packages (from requests<3,>=2.27->streamlit) (3.6)\n",
            "Requirement already satisfied: urllib3<3,>=1.21.1 in /usr/local/lib/python3.10/dist-packages (from requests<3,>=2.27->streamlit) (2.0.7)\n",
            "Requirement already satisfied: certifi>=2017.4.17 in /usr/local/lib/python3.10/dist-packages (from requests<3,>=2.27->streamlit) (2024.2.2)\n",
            "Requirement already satisfied: markdown-it-py>=2.2.0 in /usr/local/lib/python3.10/dist-packages (from rich<14,>=10.14.0->streamlit) (3.0.0)\n",
            "Requirement already satisfied: pygments<3.0.0,>=2.13.0 in /usr/local/lib/python3.10/dist-packages (from rich<14,>=10.14.0->streamlit) (2.16.1)\n",
            "Collecting smmap<6,>=3.0.1 (from gitdb<5,>=4.0.1->gitpython!=3.1.19,<4,>=3.0.7->streamlit)\n",
            "  Downloading smmap-5.0.1-py3-none-any.whl (24 kB)\n",
            "Requirement already satisfied: MarkupSafe>=2.0 in /usr/local/lib/python3.10/dist-packages (from jinja2->altair<6,>=4.0->streamlit) (2.1.5)\n",
            "Requirement already satisfied: attrs>=22.2.0 in /usr/local/lib/python3.10/dist-packages (from jsonschema>=3.0->altair<6,>=4.0->streamlit) (23.2.0)\n",
            "Requirement already satisfied: jsonschema-specifications>=2023.03.6 in /usr/local/lib/python3.10/dist-packages (from jsonschema>=3.0->altair<6,>=4.0->streamlit) (2023.12.1)\n",
            "Requirement already satisfied: referencing>=0.28.4 in /usr/local/lib/python3.10/dist-packages (from jsonschema>=3.0->altair<6,>=4.0->streamlit) (0.33.0)\n",
            "Requirement already satisfied: rpds-py>=0.7.1 in /usr/local/lib/python3.10/dist-packages (from jsonschema>=3.0->altair<6,>=4.0->streamlit) (0.18.0)\n",
            "Requirement already satisfied: mdurl~=0.1 in /usr/local/lib/python3.10/dist-packages (from markdown-it-py>=2.2.0->rich<14,>=10.14.0->streamlit) (0.1.2)\n",
            "Installing collected packages: watchdog, validators, smmap, pydeck, gitdb, gitpython, streamlit\n",
            "Successfully installed gitdb-4.0.11 gitpython-3.1.42 pydeck-0.8.1b0 smmap-5.0.1 streamlit-1.31.1 validators-0.22.0 watchdog-4.0.0\n"
          ]
        }
      ],
      "source": [
        "import numpy as np\n",
        "import pandas as pd\n",
        "import matplotlib.pyplot as plt\n",
        "import seaborn as sns\n",
        "\n",
        "!pip install streamlit\n",
        "import streamlit as st"
      ]
    },
    {
      "cell_type": "markdown",
      "metadata": {
        "id": "h_Sh51Xy8DC1"
      },
      "source": [
        "## Data Wrangling"
      ]
    },
    {
      "cell_type": "markdown",
      "metadata": {
        "id": "sXU2GBYu8DC1"
      },
      "source": [
        "### Gathering Data"
      ]
    },
    {
      "cell_type": "code",
      "execution_count": 8,
      "metadata": {
        "id": "zjCBk1BI8DC1",
        "outputId": "13115e2c-55ca-49ff-f4a0-688de4aded9a",
        "colab": {
          "base_uri": "https://localhost:8080/",
          "height": 1000
        }
      },
      "outputs": [
        {
          "output_type": "display_data",
          "data": {
            "text/plain": [
              "<IPython.core.display.HTML object>"
            ],
            "text/html": [
              "\n",
              "     <input type=\"file\" id=\"files-b08dffbf-cb14-45cc-aa76-56bdc9536a89\" name=\"files[]\" multiple disabled\n",
              "        style=\"border:none\" />\n",
              "     <output id=\"result-b08dffbf-cb14-45cc-aa76-56bdc9536a89\">\n",
              "      Upload widget is only available when the cell has been executed in the\n",
              "      current browser session. Please rerun this cell to enable.\n",
              "      </output>\n",
              "      <script>// Copyright 2017 Google LLC\n",
              "//\n",
              "// Licensed under the Apache License, Version 2.0 (the \"License\");\n",
              "// you may not use this file except in compliance with the License.\n",
              "// You may obtain a copy of the License at\n",
              "//\n",
              "//      http://www.apache.org/licenses/LICENSE-2.0\n",
              "//\n",
              "// Unless required by applicable law or agreed to in writing, software\n",
              "// distributed under the License is distributed on an \"AS IS\" BASIS,\n",
              "// WITHOUT WARRANTIES OR CONDITIONS OF ANY KIND, either express or implied.\n",
              "// See the License for the specific language governing permissions and\n",
              "// limitations under the License.\n",
              "\n",
              "/**\n",
              " * @fileoverview Helpers for google.colab Python module.\n",
              " */\n",
              "(function(scope) {\n",
              "function span(text, styleAttributes = {}) {\n",
              "  const element = document.createElement('span');\n",
              "  element.textContent = text;\n",
              "  for (const key of Object.keys(styleAttributes)) {\n",
              "    element.style[key] = styleAttributes[key];\n",
              "  }\n",
              "  return element;\n",
              "}\n",
              "\n",
              "// Max number of bytes which will be uploaded at a time.\n",
              "const MAX_PAYLOAD_SIZE = 100 * 1024;\n",
              "\n",
              "function _uploadFiles(inputId, outputId) {\n",
              "  const steps = uploadFilesStep(inputId, outputId);\n",
              "  const outputElement = document.getElementById(outputId);\n",
              "  // Cache steps on the outputElement to make it available for the next call\n",
              "  // to uploadFilesContinue from Python.\n",
              "  outputElement.steps = steps;\n",
              "\n",
              "  return _uploadFilesContinue(outputId);\n",
              "}\n",
              "\n",
              "// This is roughly an async generator (not supported in the browser yet),\n",
              "// where there are multiple asynchronous steps and the Python side is going\n",
              "// to poll for completion of each step.\n",
              "// This uses a Promise to block the python side on completion of each step,\n",
              "// then passes the result of the previous step as the input to the next step.\n",
              "function _uploadFilesContinue(outputId) {\n",
              "  const outputElement = document.getElementById(outputId);\n",
              "  const steps = outputElement.steps;\n",
              "\n",
              "  const next = steps.next(outputElement.lastPromiseValue);\n",
              "  return Promise.resolve(next.value.promise).then((value) => {\n",
              "    // Cache the last promise value to make it available to the next\n",
              "    // step of the generator.\n",
              "    outputElement.lastPromiseValue = value;\n",
              "    return next.value.response;\n",
              "  });\n",
              "}\n",
              "\n",
              "/**\n",
              " * Generator function which is called between each async step of the upload\n",
              " * process.\n",
              " * @param {string} inputId Element ID of the input file picker element.\n",
              " * @param {string} outputId Element ID of the output display.\n",
              " * @return {!Iterable<!Object>} Iterable of next steps.\n",
              " */\n",
              "function* uploadFilesStep(inputId, outputId) {\n",
              "  const inputElement = document.getElementById(inputId);\n",
              "  inputElement.disabled = false;\n",
              "\n",
              "  const outputElement = document.getElementById(outputId);\n",
              "  outputElement.innerHTML = '';\n",
              "\n",
              "  const pickedPromise = new Promise((resolve) => {\n",
              "    inputElement.addEventListener('change', (e) => {\n",
              "      resolve(e.target.files);\n",
              "    });\n",
              "  });\n",
              "\n",
              "  const cancel = document.createElement('button');\n",
              "  inputElement.parentElement.appendChild(cancel);\n",
              "  cancel.textContent = 'Cancel upload';\n",
              "  const cancelPromise = new Promise((resolve) => {\n",
              "    cancel.onclick = () => {\n",
              "      resolve(null);\n",
              "    };\n",
              "  });\n",
              "\n",
              "  // Wait for the user to pick the files.\n",
              "  const files = yield {\n",
              "    promise: Promise.race([pickedPromise, cancelPromise]),\n",
              "    response: {\n",
              "      action: 'starting',\n",
              "    }\n",
              "  };\n",
              "\n",
              "  cancel.remove();\n",
              "\n",
              "  // Disable the input element since further picks are not allowed.\n",
              "  inputElement.disabled = true;\n",
              "\n",
              "  if (!files) {\n",
              "    return {\n",
              "      response: {\n",
              "        action: 'complete',\n",
              "      }\n",
              "    };\n",
              "  }\n",
              "\n",
              "  for (const file of files) {\n",
              "    const li = document.createElement('li');\n",
              "    li.append(span(file.name, {fontWeight: 'bold'}));\n",
              "    li.append(span(\n",
              "        `(${file.type || 'n/a'}) - ${file.size} bytes, ` +\n",
              "        `last modified: ${\n",
              "            file.lastModifiedDate ? file.lastModifiedDate.toLocaleDateString() :\n",
              "                                    'n/a'} - `));\n",
              "    const percent = span('0% done');\n",
              "    li.appendChild(percent);\n",
              "\n",
              "    outputElement.appendChild(li);\n",
              "\n",
              "    const fileDataPromise = new Promise((resolve) => {\n",
              "      const reader = new FileReader();\n",
              "      reader.onload = (e) => {\n",
              "        resolve(e.target.result);\n",
              "      };\n",
              "      reader.readAsArrayBuffer(file);\n",
              "    });\n",
              "    // Wait for the data to be ready.\n",
              "    let fileData = yield {\n",
              "      promise: fileDataPromise,\n",
              "      response: {\n",
              "        action: 'continue',\n",
              "      }\n",
              "    };\n",
              "\n",
              "    // Use a chunked sending to avoid message size limits. See b/62115660.\n",
              "    let position = 0;\n",
              "    do {\n",
              "      const length = Math.min(fileData.byteLength - position, MAX_PAYLOAD_SIZE);\n",
              "      const chunk = new Uint8Array(fileData, position, length);\n",
              "      position += length;\n",
              "\n",
              "      const base64 = btoa(String.fromCharCode.apply(null, chunk));\n",
              "      yield {\n",
              "        response: {\n",
              "          action: 'append',\n",
              "          file: file.name,\n",
              "          data: base64,\n",
              "        },\n",
              "      };\n",
              "\n",
              "      let percentDone = fileData.byteLength === 0 ?\n",
              "          100 :\n",
              "          Math.round((position / fileData.byteLength) * 100);\n",
              "      percent.textContent = `${percentDone}% done`;\n",
              "\n",
              "    } while (position < fileData.byteLength);\n",
              "  }\n",
              "\n",
              "  // All done.\n",
              "  yield {\n",
              "    response: {\n",
              "      action: 'complete',\n",
              "    }\n",
              "  };\n",
              "}\n",
              "\n",
              "scope.google = scope.google || {};\n",
              "scope.google.colab = scope.google.colab || {};\n",
              "scope.google.colab._files = {\n",
              "  _uploadFiles,\n",
              "  _uploadFilesContinue,\n",
              "};\n",
              "})(self);\n",
              "</script> "
            ]
          },
          "metadata": {}
        },
        {
          "output_type": "stream",
          "name": "stdout",
          "text": [
            "Saving day.csv to day (2).csv\n"
          ]
        },
        {
          "output_type": "display_data",
          "data": {
            "text/plain": [
              "<IPython.core.display.HTML object>"
            ],
            "text/html": [
              "\n",
              "     <input type=\"file\" id=\"files-8f698eb5-fa0f-4f4c-9b35-c34fa1554fb2\" name=\"files[]\" multiple disabled\n",
              "        style=\"border:none\" />\n",
              "     <output id=\"result-8f698eb5-fa0f-4f4c-9b35-c34fa1554fb2\">\n",
              "      Upload widget is only available when the cell has been executed in the\n",
              "      current browser session. Please rerun this cell to enable.\n",
              "      </output>\n",
              "      <script>// Copyright 2017 Google LLC\n",
              "//\n",
              "// Licensed under the Apache License, Version 2.0 (the \"License\");\n",
              "// you may not use this file except in compliance with the License.\n",
              "// You may obtain a copy of the License at\n",
              "//\n",
              "//      http://www.apache.org/licenses/LICENSE-2.0\n",
              "//\n",
              "// Unless required by applicable law or agreed to in writing, software\n",
              "// distributed under the License is distributed on an \"AS IS\" BASIS,\n",
              "// WITHOUT WARRANTIES OR CONDITIONS OF ANY KIND, either express or implied.\n",
              "// See the License for the specific language governing permissions and\n",
              "// limitations under the License.\n",
              "\n",
              "/**\n",
              " * @fileoverview Helpers for google.colab Python module.\n",
              " */\n",
              "(function(scope) {\n",
              "function span(text, styleAttributes = {}) {\n",
              "  const element = document.createElement('span');\n",
              "  element.textContent = text;\n",
              "  for (const key of Object.keys(styleAttributes)) {\n",
              "    element.style[key] = styleAttributes[key];\n",
              "  }\n",
              "  return element;\n",
              "}\n",
              "\n",
              "// Max number of bytes which will be uploaded at a time.\n",
              "const MAX_PAYLOAD_SIZE = 100 * 1024;\n",
              "\n",
              "function _uploadFiles(inputId, outputId) {\n",
              "  const steps = uploadFilesStep(inputId, outputId);\n",
              "  const outputElement = document.getElementById(outputId);\n",
              "  // Cache steps on the outputElement to make it available for the next call\n",
              "  // to uploadFilesContinue from Python.\n",
              "  outputElement.steps = steps;\n",
              "\n",
              "  return _uploadFilesContinue(outputId);\n",
              "}\n",
              "\n",
              "// This is roughly an async generator (not supported in the browser yet),\n",
              "// where there are multiple asynchronous steps and the Python side is going\n",
              "// to poll for completion of each step.\n",
              "// This uses a Promise to block the python side on completion of each step,\n",
              "// then passes the result of the previous step as the input to the next step.\n",
              "function _uploadFilesContinue(outputId) {\n",
              "  const outputElement = document.getElementById(outputId);\n",
              "  const steps = outputElement.steps;\n",
              "\n",
              "  const next = steps.next(outputElement.lastPromiseValue);\n",
              "  return Promise.resolve(next.value.promise).then((value) => {\n",
              "    // Cache the last promise value to make it available to the next\n",
              "    // step of the generator.\n",
              "    outputElement.lastPromiseValue = value;\n",
              "    return next.value.response;\n",
              "  });\n",
              "}\n",
              "\n",
              "/**\n",
              " * Generator function which is called between each async step of the upload\n",
              " * process.\n",
              " * @param {string} inputId Element ID of the input file picker element.\n",
              " * @param {string} outputId Element ID of the output display.\n",
              " * @return {!Iterable<!Object>} Iterable of next steps.\n",
              " */\n",
              "function* uploadFilesStep(inputId, outputId) {\n",
              "  const inputElement = document.getElementById(inputId);\n",
              "  inputElement.disabled = false;\n",
              "\n",
              "  const outputElement = document.getElementById(outputId);\n",
              "  outputElement.innerHTML = '';\n",
              "\n",
              "  const pickedPromise = new Promise((resolve) => {\n",
              "    inputElement.addEventListener('change', (e) => {\n",
              "      resolve(e.target.files);\n",
              "    });\n",
              "  });\n",
              "\n",
              "  const cancel = document.createElement('button');\n",
              "  inputElement.parentElement.appendChild(cancel);\n",
              "  cancel.textContent = 'Cancel upload';\n",
              "  const cancelPromise = new Promise((resolve) => {\n",
              "    cancel.onclick = () => {\n",
              "      resolve(null);\n",
              "    };\n",
              "  });\n",
              "\n",
              "  // Wait for the user to pick the files.\n",
              "  const files = yield {\n",
              "    promise: Promise.race([pickedPromise, cancelPromise]),\n",
              "    response: {\n",
              "      action: 'starting',\n",
              "    }\n",
              "  };\n",
              "\n",
              "  cancel.remove();\n",
              "\n",
              "  // Disable the input element since further picks are not allowed.\n",
              "  inputElement.disabled = true;\n",
              "\n",
              "  if (!files) {\n",
              "    return {\n",
              "      response: {\n",
              "        action: 'complete',\n",
              "      }\n",
              "    };\n",
              "  }\n",
              "\n",
              "  for (const file of files) {\n",
              "    const li = document.createElement('li');\n",
              "    li.append(span(file.name, {fontWeight: 'bold'}));\n",
              "    li.append(span(\n",
              "        `(${file.type || 'n/a'}) - ${file.size} bytes, ` +\n",
              "        `last modified: ${\n",
              "            file.lastModifiedDate ? file.lastModifiedDate.toLocaleDateString() :\n",
              "                                    'n/a'} - `));\n",
              "    const percent = span('0% done');\n",
              "    li.appendChild(percent);\n",
              "\n",
              "    outputElement.appendChild(li);\n",
              "\n",
              "    const fileDataPromise = new Promise((resolve) => {\n",
              "      const reader = new FileReader();\n",
              "      reader.onload = (e) => {\n",
              "        resolve(e.target.result);\n",
              "      };\n",
              "      reader.readAsArrayBuffer(file);\n",
              "    });\n",
              "    // Wait for the data to be ready.\n",
              "    let fileData = yield {\n",
              "      promise: fileDataPromise,\n",
              "      response: {\n",
              "        action: 'continue',\n",
              "      }\n",
              "    };\n",
              "\n",
              "    // Use a chunked sending to avoid message size limits. See b/62115660.\n",
              "    let position = 0;\n",
              "    do {\n",
              "      const length = Math.min(fileData.byteLength - position, MAX_PAYLOAD_SIZE);\n",
              "      const chunk = new Uint8Array(fileData, position, length);\n",
              "      position += length;\n",
              "\n",
              "      const base64 = btoa(String.fromCharCode.apply(null, chunk));\n",
              "      yield {\n",
              "        response: {\n",
              "          action: 'append',\n",
              "          file: file.name,\n",
              "          data: base64,\n",
              "        },\n",
              "      };\n",
              "\n",
              "      let percentDone = fileData.byteLength === 0 ?\n",
              "          100 :\n",
              "          Math.round((position / fileData.byteLength) * 100);\n",
              "      percent.textContent = `${percentDone}% done`;\n",
              "\n",
              "    } while (position < fileData.byteLength);\n",
              "  }\n",
              "\n",
              "  // All done.\n",
              "  yield {\n",
              "    response: {\n",
              "      action: 'complete',\n",
              "    }\n",
              "  };\n",
              "}\n",
              "\n",
              "scope.google = scope.google || {};\n",
              "scope.google.colab = scope.google.colab || {};\n",
              "scope.google.colab._files = {\n",
              "  _uploadFiles,\n",
              "  _uploadFilesContinue,\n",
              "};\n",
              "})(self);\n",
              "</script> "
            ]
          },
          "metadata": {}
        },
        {
          "output_type": "stream",
          "name": "stdout",
          "text": [
            "Saving hour.csv to hour (1).csv\n",
            "Data from day.csv:\n",
            "     instant      dteday  season  yr  mnth  holiday  weekday  workingday  \\\n",
            "0          1  2011-01-01       1   0     1        0        6           0   \n",
            "1          2  2011-01-02       1   0     1        0        0           0   \n",
            "2          3  2011-01-03       1   0     1        0        1           1   \n",
            "3          4  2011-01-04       1   0     1        0        2           1   \n",
            "4          5  2011-01-05       1   0     1        0        3           1   \n",
            "..       ...         ...     ...  ..   ...      ...      ...         ...   \n",
            "726      727  2012-12-27       1   1    12        0        4           1   \n",
            "727      728  2012-12-28       1   1    12        0        5           1   \n",
            "728      729  2012-12-29       1   1    12        0        6           0   \n",
            "729      730  2012-12-30       1   1    12        0        0           0   \n",
            "730      731  2012-12-31       1   1    12        0        1           1   \n",
            "\n",
            "     weathersit      temp     atemp       hum  windspeed  casual  registered  \\\n",
            "0             2  0.344167  0.363625  0.805833   0.160446     331         654   \n",
            "1             2  0.363478  0.353739  0.696087   0.248539     131         670   \n",
            "2             1  0.196364  0.189405  0.437273   0.248309     120        1229   \n",
            "3             1  0.200000  0.212122  0.590435   0.160296     108        1454   \n",
            "4             1  0.226957  0.229270  0.436957   0.186900      82        1518   \n",
            "..          ...       ...       ...       ...        ...     ...         ...   \n",
            "726           2  0.254167  0.226642  0.652917   0.350133     247        1867   \n",
            "727           2  0.253333  0.255046  0.590000   0.155471     644        2451   \n",
            "728           2  0.253333  0.242400  0.752917   0.124383     159        1182   \n",
            "729           1  0.255833  0.231700  0.483333   0.350754     364        1432   \n",
            "730           2  0.215833  0.223487  0.577500   0.154846     439        2290   \n",
            "\n",
            "      cnt  \n",
            "0     985  \n",
            "1     801  \n",
            "2    1349  \n",
            "3    1562  \n",
            "4    1600  \n",
            "..    ...  \n",
            "726  2114  \n",
            "727  3095  \n",
            "728  1341  \n",
            "729  1796  \n",
            "730  2729  \n",
            "\n",
            "[731 rows x 16 columns]\n",
            "\n",
            "Data from hour.csv:\n",
            "       instant      dteday  season  yr  mnth  hr  holiday  weekday  \\\n",
            "0            1  2011-01-01       1   0     1   0        0        6   \n",
            "1            2  2011-01-01       1   0     1   1        0        6   \n",
            "2            3  2011-01-01       1   0     1   2        0        6   \n",
            "3            4  2011-01-01       1   0     1   3        0        6   \n",
            "4            5  2011-01-01       1   0     1   4        0        6   \n",
            "...        ...         ...     ...  ..   ...  ..      ...      ...   \n",
            "17374    17375  2012-12-31       1   1    12  19        0        1   \n",
            "17375    17376  2012-12-31       1   1    12  20        0        1   \n",
            "17376    17377  2012-12-31       1   1    12  21        0        1   \n",
            "17377    17378  2012-12-31       1   1    12  22        0        1   \n",
            "17378    17379  2012-12-31       1   1    12  23        0        1   \n",
            "\n",
            "       workingday  weathersit  temp   atemp   hum  windspeed  casual  \\\n",
            "0               0           1  0.24  0.2879  0.81     0.0000       3   \n",
            "1               0           1  0.22  0.2727  0.80     0.0000       8   \n",
            "2               0           1  0.22  0.2727  0.80     0.0000       5   \n",
            "3               0           1  0.24  0.2879  0.75     0.0000       3   \n",
            "4               0           1  0.24  0.2879  0.75     0.0000       0   \n",
            "...           ...         ...   ...     ...   ...        ...     ...   \n",
            "17374           1           2  0.26  0.2576  0.60     0.1642      11   \n",
            "17375           1           2  0.26  0.2576  0.60     0.1642       8   \n",
            "17376           1           1  0.26  0.2576  0.60     0.1642       7   \n",
            "17377           1           1  0.26  0.2727  0.56     0.1343      13   \n",
            "17378           1           1  0.26  0.2727  0.65     0.1343      12   \n",
            "\n",
            "       registered  cnt  \n",
            "0              13   16  \n",
            "1              32   40  \n",
            "2              27   32  \n",
            "3              10   13  \n",
            "4               1    1  \n",
            "...           ...  ...  \n",
            "17374         108  119  \n",
            "17375          81   89  \n",
            "17376          83   90  \n",
            "17377          48   61  \n",
            "17378          37   49  \n",
            "\n",
            "[17379 rows x 17 columns]\n"
          ]
        }
      ],
      "source": [
        "from google.colab import files\n",
        "\n",
        "# Upload 'day.csv'\n",
        "uploaded_day = files.upload()\n",
        "file_name_day = next(iter(uploaded_day))\n",
        "\n",
        "# Upload 'hour.csv'\n",
        "uploaded_hour = files.upload()\n",
        "file_name_hour = next(iter(uploaded_hour))\n",
        "\n",
        "# Read 'day.csv' into DataFrame\n",
        "import pandas as pd\n",
        "df_day = pd.read_csv(file_name_day)\n",
        "\n",
        "# Read 'hour.csv' into DataFrame\n",
        "df_hour = pd.read_csv(file_name_hour)\n",
        "\n",
        "# Display DataFrame from 'day.csv'\n",
        "print(\"Data from day.csv:\")\n",
        "print(df_day)\n",
        "\n",
        "# Display DataFrame from 'hour.csv'\n",
        "print(\"\\nData from hour.csv:\")\n",
        "print(df_hour)\n"
      ]
    },
    {
      "cell_type": "markdown",
      "metadata": {
        "id": "FHSiqaZp8DC1"
      },
      "source": [
        "### Assessing Data"
      ]
    },
    {
      "cell_type": "code",
      "source": [
        "# Checking for duplicate rows in df_day\n",
        "duplicate_rows_day = df_day[df_day.duplicated()]\n",
        "\n",
        "# Checking for duplicate rows in df_hour\n",
        "duplicate_rows_hour = df_hour[df_hour.duplicated()]\n",
        "\n",
        "# Displaying duplicate rows, if any\n",
        "print(\"Duplicate rows in day.csv:\")\n",
        "print(duplicate_rows_day)\n",
        "\n",
        "print(\"\\nDuplicate rows in hour.csv:\")\n",
        "print(duplicate_rows_hour)\n",
        "\n"
      ],
      "metadata": {
        "id": "ax-3tEjc9Cj1",
        "outputId": "a322d6c8-c945-4a10-c7c9-94c06a3958fc",
        "colab": {
          "base_uri": "https://localhost:8080/"
        }
      },
      "execution_count": 9,
      "outputs": [
        {
          "output_type": "stream",
          "name": "stdout",
          "text": [
            "Duplicate rows in day.csv:\n",
            "Empty DataFrame\n",
            "Columns: [instant, dteday, season, yr, mnth, holiday, weekday, workingday, weathersit, temp, atemp, hum, windspeed, casual, registered, cnt]\n",
            "Index: []\n",
            "\n",
            "Duplicate rows in hour.csv:\n",
            "Empty DataFrame\n",
            "Columns: [instant, dteday, season, yr, mnth, hr, holiday, weekday, workingday, weathersit, temp, atemp, hum, windspeed, casual, registered, cnt]\n",
            "Index: []\n"
          ]
        }
      ]
    },
    {
      "cell_type": "code",
      "source": [
        "# Part 2 checking missing values\n",
        "# Checking for missing values in df_day\n",
        "missing_values_day = df_day.isnull().sum()\n",
        "\n",
        "# Checking for missing values in df_hour\n",
        "missing_values_hour = df_hour.isnull().sum()\n",
        "\n",
        "# Displaying missing values count, if any\n",
        "print(\"Missing values count in day.csv:\")\n",
        "print(missing_values_day)\n",
        "\n",
        "print(\"\\nMissing values count in hour.csv:\")\n",
        "print(missing_values_hour)\n"
      ],
      "metadata": {
        "id": "0-WVdGkDG-g_",
        "outputId": "10282b5b-01d4-4a25-dc55-4e7ba7e19bcf",
        "colab": {
          "base_uri": "https://localhost:8080/"
        }
      },
      "execution_count": 10,
      "outputs": [
        {
          "output_type": "stream",
          "name": "stdout",
          "text": [
            "Missing values count in day.csv:\n",
            "instant       0\n",
            "dteday        0\n",
            "season        0\n",
            "yr            0\n",
            "mnth          0\n",
            "holiday       0\n",
            "weekday       0\n",
            "workingday    0\n",
            "weathersit    0\n",
            "temp          0\n",
            "atemp         0\n",
            "hum           0\n",
            "windspeed     0\n",
            "casual        0\n",
            "registered    0\n",
            "cnt           0\n",
            "dtype: int64\n",
            "\n",
            "Missing values count in hour.csv:\n",
            "instant       0\n",
            "dteday        0\n",
            "season        0\n",
            "yr            0\n",
            "mnth          0\n",
            "hr            0\n",
            "holiday       0\n",
            "weekday       0\n",
            "workingday    0\n",
            "weathersit    0\n",
            "temp          0\n",
            "atemp         0\n",
            "hum           0\n",
            "windspeed     0\n",
            "casual        0\n",
            "registered    0\n",
            "cnt           0\n",
            "dtype: int64\n"
          ]
        }
      ]
    },
    {
      "cell_type": "code",
      "source": [
        "# Part 3:Check temperature value maks 40\n",
        "# Define a threshold for valid temperature values\n",
        "min_temp = -10  # Example minimum temperature\n",
        "max_temp = 40   # Example maximum temperature\n",
        "\n",
        "# Filter rows where temperature is outside the valid range\n",
        "invalid_temp_day = df_day[(df_day['temp'] < min_temp) | (df_day['temp'] > max_temp)]\n",
        "invalid_temp_hour = df_hour[(df_hour['temp'] < min_temp) | (df_hour['temp'] > max_temp)]\n",
        "\n",
        "# Display rows with potentially invalid temperature values\n",
        "print(\"Rows with potentially invalid temperature values in day.csv:\")\n",
        "print(invalid_temp_day)\n",
        "\n",
        "print(\"\\nRows with potentially invalid temperature values in hour.csv:\")\n",
        "print(invalid_temp_hour)\n"
      ],
      "metadata": {
        "id": "9ccpvn_5HOR6",
        "outputId": "7fa07496-ab1d-4959-d36e-b7204e085ee6",
        "colab": {
          "base_uri": "https://localhost:8080/"
        }
      },
      "execution_count": 11,
      "outputs": [
        {
          "output_type": "stream",
          "name": "stdout",
          "text": [
            "Rows with potentially invalid temperature values in day.csv:\n",
            "Empty DataFrame\n",
            "Columns: [instant, dteday, season, yr, mnth, holiday, weekday, workingday, weathersit, temp, atemp, hum, windspeed, casual, registered, cnt]\n",
            "Index: []\n",
            "\n",
            "Rows with potentially invalid temperature values in hour.csv:\n",
            "Empty DataFrame\n",
            "Columns: [instant, dteday, season, yr, mnth, hr, holiday, weekday, workingday, weathersit, temp, atemp, hum, windspeed, casual, registered, cnt]\n",
            "Index: []\n"
          ]
        }
      ]
    },
    {
      "cell_type": "code",
      "source": [
        "# Define a function to detect outliers using IQR method\n",
        "def detect_outliers_iqr(df, threshold=1.5):\n",
        "    outliers = pd.DataFrame()\n",
        "    for column in df.columns:\n",
        "        if pd.api.types.is_numeric_dtype(df[column]):\n",
        "            q1 = df[column].quantile(0.25)\n",
        "            q3 = df[column].quantile(0.75)\n",
        "            iqr = q3 - q1\n",
        "            lower_bound = q1 - threshold * iqr\n",
        "            upper_bound = q3 + threshold * iqr\n",
        "            outliers[column] = df[(df[column] < lower_bound) | (df[column] > upper_bound)][column]\n",
        "    return outliers\n",
        "\n",
        "# Detect outliers in df_day\n",
        "outliers_day = detect_outliers_iqr(df_day)\n",
        "\n",
        "# Detect outliers in df_hour\n",
        "outliers_hour = detect_outliers_iqr(df_hour)\n",
        "\n",
        "# Display outliers, if any\n",
        "print(\"Outliers in day.csv:\")\n",
        "print(outliers_day)\n",
        "\n",
        "print(\"\\nOutliers in hour.csv:\")\n",
        "print(outliers_hour)\n"
      ],
      "metadata": {
        "id": "vrqCPZkjH9BU",
        "outputId": "f1eccbcc-295d-4d89-b818-85ea4f964a62",
        "colab": {
          "base_uri": "https://localhost:8080/"
        }
      },
      "execution_count": 13,
      "outputs": [
        {
          "output_type": "stream",
          "name": "stdout",
          "text": [
            "Outliers in day.csv:\n",
            "     instant  season  yr  mnth  holiday  weekday  workingday  weathersit  \\\n",
            "16       NaN     NaN NaN   NaN        1      NaN         NaN         NaN   \n",
            "51       NaN     NaN NaN   NaN        1      NaN         NaN         NaN   \n",
            "104      NaN     NaN NaN   NaN        1      NaN         NaN         NaN   \n",
            "149      NaN     NaN NaN   NaN        1      NaN         NaN         NaN   \n",
            "184      NaN     NaN NaN   NaN        1      NaN         NaN         NaN   \n",
            "247      NaN     NaN NaN   NaN        1      NaN         NaN         NaN   \n",
            "282      NaN     NaN NaN   NaN        1      NaN         NaN         NaN   \n",
            "314      NaN     NaN NaN   NaN        1      NaN         NaN         NaN   \n",
            "327      NaN     NaN NaN   NaN        1      NaN         NaN         NaN   \n",
            "359      NaN     NaN NaN   NaN        1      NaN         NaN         NaN   \n",
            "366      NaN     NaN NaN   NaN        1      NaN         NaN         NaN   \n",
            "380      NaN     NaN NaN   NaN        1      NaN         NaN         NaN   \n",
            "415      NaN     NaN NaN   NaN        1      NaN         NaN         NaN   \n",
            "471      NaN     NaN NaN   NaN        1      NaN         NaN         NaN   \n",
            "513      NaN     NaN NaN   NaN        1      NaN         NaN         NaN   \n",
            "550      NaN     NaN NaN   NaN        1      NaN         NaN         NaN   \n",
            "611      NaN     NaN NaN   NaN        1      NaN         NaN         NaN   \n",
            "646      NaN     NaN NaN   NaN        1      NaN         NaN         NaN   \n",
            "681      NaN     NaN NaN   NaN        1      NaN         NaN         NaN   \n",
            "691      NaN     NaN NaN   NaN        1      NaN         NaN         NaN   \n",
            "724      NaN     NaN NaN   NaN        1      NaN         NaN         NaN   \n",
            "\n",
            "     temp  atemp  hum  windspeed  casual  registered  cnt  \n",
            "16    NaN    NaN  NaN        NaN     NaN         NaN  NaN  \n",
            "51    NaN    NaN  NaN        NaN     NaN         NaN  NaN  \n",
            "104   NaN    NaN  NaN        NaN     NaN         NaN  NaN  \n",
            "149   NaN    NaN  NaN        NaN     NaN         NaN  NaN  \n",
            "184   NaN    NaN  NaN        NaN  3065.0         NaN  NaN  \n",
            "247   NaN    NaN  NaN        NaN     NaN         NaN  NaN  \n",
            "282   NaN    NaN  NaN        NaN     NaN         NaN  NaN  \n",
            "314   NaN    NaN  NaN        NaN     NaN         NaN  NaN  \n",
            "327   NaN    NaN  NaN        NaN     NaN         NaN  NaN  \n",
            "359   NaN    NaN  NaN        NaN     NaN         NaN  NaN  \n",
            "366   NaN    NaN  NaN        NaN     NaN         NaN  NaN  \n",
            "380   NaN    NaN  NaN        NaN     NaN         NaN  NaN  \n",
            "415   NaN    NaN  NaN        NaN     NaN         NaN  NaN  \n",
            "471   NaN    NaN  NaN        NaN     NaN         NaN  NaN  \n",
            "513   NaN    NaN  NaN        NaN  2557.0         NaN  NaN  \n",
            "550   NaN    NaN  NaN        NaN  2562.0         NaN  NaN  \n",
            "611   NaN    NaN  NaN        NaN     NaN         NaN  NaN  \n",
            "646   NaN    NaN  NaN        NaN     NaN         NaN  NaN  \n",
            "681   NaN    NaN  NaN        NaN     NaN         NaN  NaN  \n",
            "691   NaN    NaN  NaN        NaN     NaN         NaN  NaN  \n",
            "724   NaN    NaN  NaN        NaN     NaN         NaN  NaN  \n",
            "\n",
            "Outliers in hour.csv:\n",
            "       instant  season  yr  mnth  hr  holiday  weekday  workingday  \\\n",
            "372        NaN     NaN NaN   NaN NaN        1      NaN         NaN   \n",
            "373        NaN     NaN NaN   NaN NaN        1      NaN         NaN   \n",
            "374        NaN     NaN NaN   NaN NaN        1      NaN         NaN   \n",
            "375        NaN     NaN NaN   NaN NaN        1      NaN         NaN   \n",
            "376        NaN     NaN NaN   NaN NaN        1      NaN         NaN   \n",
            "...        ...     ...  ..   ...  ..      ...      ...         ...   \n",
            "17230      NaN     NaN NaN   NaN NaN        1      NaN         NaN   \n",
            "17231      NaN     NaN NaN   NaN NaN        1      NaN         NaN   \n",
            "17232      NaN     NaN NaN   NaN NaN        1      NaN         NaN   \n",
            "17233      NaN     NaN NaN   NaN NaN        1      NaN         NaN   \n",
            "17234      NaN     NaN NaN   NaN NaN        1      NaN         NaN   \n",
            "\n",
            "       weathersit  temp  atemp  hum  windspeed  casual  registered  cnt  \n",
            "372           NaN   NaN    NaN  NaN        NaN     NaN         NaN  NaN  \n",
            "373           NaN   NaN    NaN  NaN        NaN     NaN         NaN  NaN  \n",
            "374           NaN   NaN    NaN  NaN        NaN     NaN         NaN  NaN  \n",
            "375           NaN   NaN    NaN  NaN        NaN     NaN         NaN  NaN  \n",
            "376           NaN   NaN    NaN  NaN        NaN     NaN         NaN  NaN  \n",
            "...           ...   ...    ...  ...        ...     ...         ...  ...  \n",
            "17230         NaN   NaN    NaN  NaN        NaN     NaN         NaN  NaN  \n",
            "17231         NaN   NaN    NaN  NaN        NaN     NaN         NaN  NaN  \n",
            "17232         NaN   NaN    NaN  NaN        NaN     NaN         NaN  NaN  \n",
            "17233         NaN   NaN    NaN  NaN        NaN     NaN         NaN  NaN  \n",
            "17234         NaN   NaN    NaN  NaN        NaN     NaN         NaN  NaN  \n",
            "\n",
            "[500 rows x 16 columns]\n"
          ]
        }
      ]
    },
    {
      "cell_type": "markdown",
      "metadata": {
        "id": "EhN5R4hr8DC1"
      },
      "source": [
        "### Cleaning Data"
      ]
    },
    {
      "cell_type": "code",
      "source": [
        "# Define a function to remove outliers using IQR method\n",
        "def remove_outliers_iqr(df, threshold=1.5):\n",
        "    for column in df.columns:\n",
        "        if pd.api.types.is_numeric_dtype(df[column]):\n",
        "            q1 = df[column].quantile(0.25)\n",
        "            q3 = df[column].quantile(0.75)\n",
        "            iqr = q3 - q1\n",
        "            lower_bound = q1 - threshold * iqr\n",
        "            upper_bound = q3 + threshold * iqr\n",
        "            df = df[(df[column] >= lower_bound) & (df[column] <= upper_bound)]\n",
        "    return df\n",
        "\n",
        "# Remove outliers from df_day\n",
        "cleaned_df_day = remove_outliers_iqr(df_day)\n",
        "\n",
        "# Remove outliers from df_hour\n",
        "cleaned_df_hour = remove_outliers_iqr(df_hour)\n",
        "\n",
        "# Print the cleaned version of df_day\n",
        "print(\"Cleaned version of day.csv:\")\n",
        "print(cleaned_df_day)\n",
        "\n",
        "# Print the cleaned version of df_hour\n",
        "print(\"\\nCleaned version of hour.csv:\")\n",
        "print(cleaned_df_hour)\n"
      ],
      "metadata": {
        "id": "jVnYpprE9Evz",
        "outputId": "77a43388-6288-455c-fda1-b8868ae074ac",
        "colab": {
          "base_uri": "https://localhost:8080/"
        }
      },
      "execution_count": 18,
      "outputs": [
        {
          "output_type": "stream",
          "name": "stdout",
          "text": [
            "Cleaned version of day.csv:\n",
            "     instant      dteday  season  yr  mnth  holiday  weekday  workingday  \\\n",
            "0          1  2011-01-01       1   0     1        0        6           0   \n",
            "1          2  2011-01-02       1   0     1        0        0           0   \n",
            "2          3  2011-01-03       1   0     1        0        1           1   \n",
            "3          4  2011-01-04       1   0     1        0        2           1   \n",
            "4          5  2011-01-05       1   0     1        0        3           1   \n",
            "..       ...         ...     ...  ..   ...      ...      ...         ...   \n",
            "726      727  2012-12-27       1   1    12        0        4           1   \n",
            "727      728  2012-12-28       1   1    12        0        5           1   \n",
            "728      729  2012-12-29       1   1    12        0        6           0   \n",
            "729      730  2012-12-30       1   1    12        0        0           0   \n",
            "730      731  2012-12-31       1   1    12        0        1           1   \n",
            "\n",
            "     weathersit      temp     atemp       hum  windspeed  casual  registered  \\\n",
            "0             2  0.344167  0.363625  0.805833   0.160446     331         654   \n",
            "1             2  0.363478  0.353739  0.696087   0.248539     131         670   \n",
            "2             1  0.196364  0.189405  0.437273   0.248309     120        1229   \n",
            "3             1  0.200000  0.212122  0.590435   0.160296     108        1454   \n",
            "4             1  0.226957  0.229270  0.436957   0.186900      82        1518   \n",
            "..          ...       ...       ...       ...        ...     ...         ...   \n",
            "726           2  0.254167  0.226642  0.652917   0.350133     247        1867   \n",
            "727           2  0.253333  0.255046  0.590000   0.155471     644        2451   \n",
            "728           2  0.253333  0.242400  0.752917   0.124383     159        1182   \n",
            "729           1  0.255833  0.231700  0.483333   0.350754     364        1432   \n",
            "730           2  0.215833  0.223487  0.577500   0.154846     439        2290   \n",
            "\n",
            "      cnt  \n",
            "0     985  \n",
            "1     801  \n",
            "2    1349  \n",
            "3    1562  \n",
            "4    1600  \n",
            "..    ...  \n",
            "726  2114  \n",
            "727  3095  \n",
            "728  1341  \n",
            "729  1796  \n",
            "730  2729  \n",
            "\n",
            "[655 rows x 16 columns]\n",
            "\n",
            "Cleaned version of hour.csv:\n",
            "       instant      dteday  season  yr  mnth  hr  holiday  weekday  \\\n",
            "0            1  2011-01-01       1   0     1   0        0        6   \n",
            "1            2  2011-01-01       1   0     1   1        0        6   \n",
            "2            3  2011-01-01       1   0     1   2        0        6   \n",
            "3            4  2011-01-01       1   0     1   3        0        6   \n",
            "4            5  2011-01-01       1   0     1   4        0        6   \n",
            "...        ...         ...     ...  ..   ...  ..      ...      ...   \n",
            "17374    17375  2012-12-31       1   1    12  19        0        1   \n",
            "17375    17376  2012-12-31       1   1    12  20        0        1   \n",
            "17376    17377  2012-12-31       1   1    12  21        0        1   \n",
            "17377    17378  2012-12-31       1   1    12  22        0        1   \n",
            "17378    17379  2012-12-31       1   1    12  23        0        1   \n",
            "\n",
            "       workingday  weathersit  temp   atemp   hum  windspeed  casual  \\\n",
            "0               0           1  0.24  0.2879  0.81     0.0000       3   \n",
            "1               0           1  0.22  0.2727  0.80     0.0000       8   \n",
            "2               0           1  0.22  0.2727  0.80     0.0000       5   \n",
            "3               0           1  0.24  0.2879  0.75     0.0000       3   \n",
            "4               0           1  0.24  0.2879  0.75     0.0000       0   \n",
            "...           ...         ...   ...     ...   ...        ...     ...   \n",
            "17374           1           2  0.26  0.2576  0.60     0.1642      11   \n",
            "17375           1           2  0.26  0.2576  0.60     0.1642       8   \n",
            "17376           1           1  0.26  0.2576  0.60     0.1642       7   \n",
            "17377           1           1  0.26  0.2727  0.56     0.1343      13   \n",
            "17378           1           1  0.26  0.2727  0.65     0.1343      12   \n",
            "\n",
            "       registered  cnt  \n",
            "0              13   16  \n",
            "1              32   40  \n",
            "2              27   32  \n",
            "3              10   13  \n",
            "4               1    1  \n",
            "...           ...  ...  \n",
            "17374         108  119  \n",
            "17375          81   89  \n",
            "17376          83   90  \n",
            "17377          48   61  \n",
            "17378          37   49  \n",
            "\n",
            "[14534 rows x 17 columns]\n"
          ]
        }
      ]
    },
    {
      "cell_type": "markdown",
      "metadata": {
        "id": "gp-Y6wU38DC1"
      },
      "source": [
        "## Exploratory Data Analysis (EDA)"
      ]
    },
    {
      "cell_type": "markdown",
      "metadata": {
        "id": "MW7WF2kr8DC1"
      },
      "source": [
        "### Explore ..."
      ]
    },
    {
      "cell_type": "code",
      "source": [
        "# Group by 'season' and 'yr', and calculate the sum of 'cnt' for each group\n",
        "grouped_data = data.groupby(['season', 'yr'])['cnt'].sum().reset_index()\n",
        "\n",
        "# Map the year values to 'yr' column\n",
        "grouped_data['yr'] = grouped_data['yr'].map({0: 2011, 1: 2012})  # Assuming 0 represents 2011 and 1 represents 2012\n",
        "\n",
        "# Replace season codes with descriptions\n",
        "grouped_data['season'] = grouped_data['season'].replace({1: 'Summer',\n",
        "                                                         2: 'Fall/Autumn',\n",
        "                                                         3: 'Winter',\n",
        "                                                         4: 'Spring'})\n",
        "\n",
        "# Display the grouped data\n",
        "print(\"Bike's rent Troughout Each Season:\")\n",
        "print(grouped_data)"
      ],
      "metadata": {
        "id": "c_GdFxLuNk0b",
        "outputId": "495f9f56-bea1-4d99-e94c-dd06431c7d27",
        "colab": {
          "base_uri": "https://localhost:8080/"
        }
      },
      "execution_count": 32,
      "outputs": [
        {
          "output_type": "stream",
          "name": "stdout",
          "text": [
            "Bike's rent Troughout Each Season:\n",
            "        season    yr     cnt\n",
            "0       Summer  2011  150000\n",
            "1       Summer  2012  321348\n",
            "2  Fall/Autumn  2011  347316\n",
            "3  Fall/Autumn  2012  571273\n",
            "4       Winter  2011  419650\n",
            "5       Winter  2012  641479\n",
            "6       Spring  2011  326137\n",
            "7       Spring  2012  515476\n"
          ]
        }
      ]
    },
    {
      "cell_type": "code",
      "execution_count": 75,
      "metadata": {
        "id": "e9CQCZjk8DC2",
        "outputId": "ca5293af-d07f-489a-bbb8-58ce966e1dab",
        "colab": {
          "base_uri": "https://localhost:8080/"
        }
      },
      "outputs": [
        {
          "output_type": "stream",
          "name": "stdout",
          "text": [
            "Correlation Matrix:\n",
            "                hum      temp  windspeed       cnt\n",
            "hum        1.000000  0.126963  -0.248489 -0.100659\n",
            "temp       0.126963  1.000000  -0.157944  0.627494\n",
            "windspeed -0.248489 -0.157944   1.000000 -0.234545\n",
            "cnt       -0.100659  0.627494  -0.234545  1.000000\n"
          ]
        }
      ],
      "source": [
        "# Checking correlation between temperature, humidity, and windspeed\n",
        "\n",
        "# Select columns for correlation analysis\n",
        "columns = ['hum', 'temp', 'windspeed', 'cnt']\n",
        "\n",
        "# Calculate the correlation matrix\n",
        "correlation_matrix = data[columns].corr()\n",
        "\n",
        "# Display the correlation matrix\n",
        "print(\"Correlation Matrix:\")\n",
        "print(correlation_matrix)"
      ]
    },
    {
      "cell_type": "code",
      "source": [
        "# Preprocessing\n",
        "data['dteday'] = pd.to_datetime(data['dteday'])\n",
        "data['day_of_week'] = data['dteday'].dt.day_name()\n",
        "\n",
        "# Grouping by day of the week and calculating descriptive statistics\n",
        "weekly_trend_stats = data.groupby('day_of_week')['cnt'].describe()\n",
        "\n",
        "# Calculate mean, min, and max\n",
        "weekly_trend_stats['min'] = data.groupby('day_of_week')['cnt'].min()\n",
        "weekly_trend_stats['mean'] = data.groupby('day_of_week')['cnt'].mean()\n",
        "weekly_trend_stats['max'] = data.groupby('day_of_week')['cnt'].max()\n",
        "\n",
        "# Sort the days of the week\n",
        "weekly_trend_stats = weekly_trend_stats.reindex(['Monday', 'Tuesday', 'Wednesday', 'Thursday', 'Friday', 'Saturday', 'Sunday'])\n",
        "\n",
        "# Find top 3 days with highest mean rental counts\n",
        "top_days = weekly_trend_stats.nlargest(3, 'mean').index\n",
        "\n",
        "# Print the resulting DataFrame\n",
        "print(\"Descriptive Statistics for Bike Rentals by Day of the Week:\")\n",
        "print(weekly_trend_stats)"
      ],
      "metadata": {
        "id": "qtG7XZMBaCk4",
        "outputId": "ab3b6a27-3c1a-4507-82cf-ee8de8f0ae39",
        "colab": {
          "base_uri": "https://localhost:8080/"
        }
      },
      "execution_count": 74,
      "outputs": [
        {
          "output_type": "stream",
          "name": "stdout",
          "text": [
            "Descriptive Statistics for Bike Rentals by Day of the Week:\n",
            "             count         mean          std   min      25%     50%      75%  \\\n",
            "day_of_week                                                                    \n",
            "Monday       105.0  4338.123810  1793.074013    22  3310.00  4359.0  5875.00   \n",
            "Tuesday      104.0  4510.663462  1826.911642   683  3579.25  4576.5  5769.00   \n",
            "Wednesday    104.0  4548.538462  2038.095884   441  2653.25  4642.5  6175.75   \n",
            "Thursday     104.0  4667.259615  1939.433317   431  3270.75  4721.0  6286.00   \n",
            "Friday       104.0  4690.288462  1874.624870  1167  3390.75  4601.5  5900.50   \n",
            "Saturday     105.0  4550.542857  2196.693009   627  2732.00  4521.0  6140.00   \n",
            "Sunday       105.0  4228.828571  1872.496629   605  2918.00  4334.0  5464.00   \n",
            "\n",
            "              max  \n",
            "day_of_week        \n",
            "Monday       7525  \n",
            "Tuesday      7767  \n",
            "Wednesday    8173  \n",
            "Thursday     7804  \n",
            "Friday       8362  \n",
            "Saturday     8714  \n",
            "Sunday       8227  \n"
          ]
        }
      ]
    },
    {
      "cell_type": "markdown",
      "metadata": {
        "id": "zsyZjqak8DC2"
      },
      "source": [
        "## Visualization & Explanatory Analysis"
      ]
    },
    {
      "cell_type": "markdown",
      "metadata": {
        "id": "HZxOiQ6n8DC2"
      },
      "source": [
        "### Pertanyaan 1:"
      ]
    },
    {
      "cell_type": "code",
      "execution_count": 33,
      "metadata": {
        "id": "1swJUdAD8DC2",
        "outputId": "bb9e4fc3-4816-4975-bc47-53509fb6765f",
        "colab": {
          "base_uri": "https://localhost:8080/",
          "height": 594
        }
      },
      "outputs": [
        {
          "output_type": "display_data",
          "data": {
            "text/plain": [
              "<Figure size 1000x600 with 1 Axes>"
            ],
            "image/png": "[encoded data removed]"
          },
          "metadata": {}
        }
      ],
      "source": [
        "# Set palette colors for each year\n",
        "palette = {2011: 'lightgrey', 2012: 'mediumseagreen'}\n",
        "\n",
        "# Plotting the grouped data\n",
        "plt.figure(figsize=(10, 6))\n",
        "sns.barplot(data=grouped_data, x='season', y='cnt', hue='yr', palette=palette)\n",
        "plt.title(\"Bike's Rent Throughout Each Season\")\n",
        "plt.xlabel('Season')\n",
        "plt.ylabel('Total Bike Rentals')\n",
        "plt.xticks(rotation=45)\n",
        "plt.legend(title='Year')\n",
        "plt.show()"
      ]
    },
    {
      "cell_type": "markdown",
      "metadata": {
        "id": "DgHI7CiU8DC2"
      },
      "source": [
        "### Pertanyaan 2:"
      ]
    },
    {
      "cell_type": "code",
      "execution_count": 35,
      "metadata": {
        "id": "Go0lCsvO8DC2",
        "outputId": "4128d3bb-c228-457a-a301-0cd9d6653ac4",
        "colab": {
          "base_uri": "https://localhost:8080/",
          "height": 564
        }
      },
      "outputs": [
        {
          "output_type": "display_data",
          "data": {
            "text/plain": [
              "<Figure size 800x600 with 2 Axes>"
            ],
            "image/png": "[encoded data removed]"
          },
          "metadata": {}
        }
      ],
      "source": [
        "# Calculate the correlation matrix\n",
        "correlation_matrix = data[columns].corr()\n",
        "\n",
        "# Set up the matplotlib figure\n",
        "plt.figure(figsize=(8, 6))\n",
        "\n",
        "# Draw the heatmap with positive correlation values highlighted\n",
        "sns.heatmap(correlation_matrix, annot=True, cmap='YlGnBu', fmt=\".2f\", linewidths=.5,\n",
        "            mask = correlation_matrix < 0)\n",
        "\n",
        "# Set title and labels\n",
        "plt.title('Correlation Between Temperature, Humidity, Windspeed, and Bike Rentals (Positive Correlations)')\n",
        "plt.xlabel('Features')\n",
        "plt.ylabel('Features')\n",
        "\n",
        "# Rotate the y-axis labels for better readability\n",
        "plt.yticks(rotation=0)\n",
        "\n",
        "# Show plot\n",
        "plt.show()"
      ]
    },
    {
      "cell_type": "markdown",
      "source": [
        "### Pertanyaan 3"
      ],
      "metadata": {
        "id": "IXt_GaHCRO32"
      }
    },
    {
      "cell_type": "code",
      "source": [
        "# Plotting\n",
        "plt.figure(figsize=(10, 6))\n",
        "\n",
        "# Plotting bars for mean, min, and max\n",
        "plt.bar(weekly_trend_stats.index, weekly_trend_stats['mean'], color=['blue' if day in top_days else 'grey' for day in weekly_trend_stats.index], label='Mean')\n",
        "plt.plot(weekly_trend_stats.index, weekly_trend_stats['min'], color='red', marker='_', markersize=10, label='Min')\n",
        "plt.plot(weekly_trend_stats.index, weekly_trend_stats['max'], color='green', marker='_', markersize=10, label='Max')\n",
        "\n",
        "plt.title('Tren Bike Rentals by Day of the Week')\n",
        "plt.xlabel('Day of the Week')\n",
        "plt.ylabel('Bike Rentals')\n",
        "plt.xticks(rotation=45)\n",
        "plt.legend()\n",
        "plt.tight_layout()\n",
        "plt.show()\n"
      ],
      "metadata": {
        "id": "CzIthie1ajVI",
        "outputId": "9e8efdaf-b33c-43de-c1f7-2b0b7d7a0078",
        "colab": {
          "base_uri": "https://localhost:8080/",
          "height": 518
        }
      },
      "execution_count": 71,
      "outputs": [
        {
          "output_type": "display_data",
          "data": {
            "text/plain": [
              "<Figure size 1000x600 with 1 Axes>"
            ],
            "image/png": "[encoded data removed]"
          },
          "metadata": {}
        }
      ]
    },
    {
      "cell_type": "markdown",
      "metadata": {
        "id": "_WeHlCeX8DC2"
      },
      "source": [
        "## Conclusion"
      ]
    },
    {
      "cell_type": "markdown",
      "metadata": {
        "id": "ZTcyR48Y8DC2"
      },
      "source": [
        "\n",
        "- Yes, the season affects the number of bike rentals. From the visualization results, it was found that winter recorded the most bike rentals in a year. While the fewest rentals are recorded in the summer, This can be one of the reasons for the company to provide special promotions in the season that record the lowest number of bike rentals to increase the number of rentals.\n",
        "- The highest positive correlation between humidity, temperature, windspeed, and cnt was only recorded between temperature and the number of rentals. So it can be seen that temperature has a positive relationship with the number of bicycle rentals. The more extreme the temperature, the more bicycle rentals are made.\n",
        "- The days that recorded the highest number of rentals were Thursday, Friday, and Saturday. This can be one of the reasons for the company to prepare more bicycles for rent to overcome the overflow of tenants.\n"
      ]
    }
  ],
  "metadata": {
    "kernelspec": {
      "display_name": "Python 3",
      "language": "python",
      "name": "python3"
    },
    "language_info": {
      "name": "python",
      "version": "3.8.0 (tags/v3.8.0:fa919fd, Oct 14 2019, 19:21:23) [MSC v.1916 32 bit (Intel)]"
    },
    "orig_nbformat": 4,
    "vscode": {
      "interpreter": {
        "hash": "972b3bf27e332e87b5379f2791f6ef9dfc79c71018c370b0d7423235e20fe4d7"
      }
    },
    "colab": {
      "provenance": [],
      "toc_visible": true
    }
  },
  "nbformat": 4,
  "nbformat_minor": 0
}